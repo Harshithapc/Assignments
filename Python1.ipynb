{
  "nbformat": 4,
  "nbformat_minor": 0,
  "metadata": {
    "colab": {
      "provenance": [],
      "authorship_tag": "ABX9TyP/YQerUhQ1xaLdjIMI0HaF",
      "include_colab_link": true
    },
    "kernelspec": {
      "name": "python3",
      "display_name": "Python 3"
    },
    "language_info": {
      "name": "python"
    }
  },
  "cells": [
    {
      "cell_type": "markdown",
      "metadata": {
        "id": "view-in-github",
        "colab_type": "text"
      },
      "source": [
        "<a href=\"https://colab.research.google.com/github/Harshithapc/Assignments/blob/main/Python1.ipynb\" target=\"_parent\"><img src=\"https://colab.research.google.com/assets/colab-badge.svg\" alt=\"Open In Colab\"/></a>"
      ]
    },
    {
      "cell_type": "code",
      "execution_count": 3,
      "metadata": {
        "colab": {
          "base_uri": "https://localhost:8080/"
        },
        "id": "UJ3xL-Dtul-C",
        "outputId": "f78d9661-9f1c-4a47-da19-7b3a9b2ccfc8"
      },
      "outputs": [
        {
          "output_type": "stream",
          "name": "stdout",
          "text": [
            "35\n"
          ]
        }
      ],
      "source": [
        "#Harshitha\n",
        "#Challenge 1 : Square Numbers and Return Their Sum\n",
        "\n",
        "class Point1:\n",
        "\n",
        "    def __init__(self,x,y,z):\n",
        "\n",
        "        self.x = x\n",
        "\n",
        "        self.y = y\n",
        "\n",
        "        self.z = z\n",
        "\n",
        "    def sqSum(self):\n",
        "\n",
        "        return(self.x**2+self.y**2+self.z**2)\n",
        "\n",
        "obj=Point1(1,3,5)\n",
        "\n",
        "print(obj.sqSum())\n"
      ]
    },
    {
      "cell_type": "code",
      "source": [
        "#Challenge 2: Implement a Calculator Class\n",
        "\n",
        "class Calculator:\n",
        "\n",
        "    def __init__(self,x,y):\n",
        "\n",
        "        self.x = x\n",
        "\n",
        "        self.y = y\n",
        "\n",
        "    def add(self):\n",
        "\n",
        "        return self.y+self.x\n",
        "\n",
        "    def subtract(self):\n",
        "\n",
        "        return self.y-self.x\n",
        "\n",
        "    def multiply(self):\n",
        "\n",
        "        return self.y*self.x\n",
        "\n",
        "    def divide(self):\n",
        "\n",
        "        return self.y/self.x\n",
        "\n",
        "obj = Calculator(10,94)\n",
        "\n",
        "print(obj.add())\n",
        "\n",
        "print(obj.subtract())\n",
        "\n",
        "print(obj.multiply())\n",
        "\n",
        "print(obj.divide())\n"
      ],
      "metadata": {
        "colab": {
          "base_uri": "https://localhost:8080/"
        },
        "id": "_5IxnkbTxeaV",
        "outputId": "1cfc745a-cfe5-4e7b-c3e6-21760c11c227"
      },
      "execution_count": 4,
      "outputs": [
        {
          "output_type": "stream",
          "name": "stdout",
          "text": [
            "104\n",
            "84\n",
            "940\n",
            "9.4\n"
          ]
        }
      ]
    },
    {
      "cell_type": "code",
      "source": [
        "#Challenge 3: Implement the Complete Student Class\n",
        "\n",
        "class Student:\n",
        "\n",
        "    def __init__(self,name=None,roll_num=None):\n",
        "\n",
        "        self.__student_name=name\n",
        "\n",
        "        self.__roll_number=roll_num\n",
        "\n",
        "    def setName(self,name):\n",
        "\n",
        "        self.__student_name=name\n",
        "\n",
        "    def getName(self):\n",
        "\n",
        "        return(self.__student_name)\n",
        "\n",
        "    def setRollNumber(self,roll_num):\n",
        "\n",
        "        self.__roll_number=roll_num\n",
        "\n",
        "    def getRollNumber(self):\n",
        "\n",
        "        return(self.__roll_number)\n",
        "\n",
        "s1=Student()\n",
        "\n",
        "print(s1.getName())\n",
        "\n",
        "s1.setName(\"Harshitha\")\n",
        "\n",
        "print(s1.getName())\n",
        "\n",
        "print(s1.getRollNumber())\n",
        "\n",
        "s1.setRollNumber(1234)\n",
        "\n",
        "print(s1.getRollNumber())"
      ],
      "metadata": {
        "colab": {
          "base_uri": "https://localhost:8080/"
        },
        "id": "RD3JMt-5xss5",
        "outputId": "5c6c0146-f7ec-493e-e8b4-537372f94652"
      },
      "execution_count": 7,
      "outputs": [
        {
          "output_type": "stream",
          "name": "stdout",
          "text": [
            "None\n",
            "Harshitha\n",
            "None\n",
            "1234\n"
          ]
        }
      ]
    },
    {
      "cell_type": "code",
      "source": [
        "#Challenge 4: Implement a Banking Account\n",
        "\n",
        "class Account:\n",
        "\n",
        "    def __init__(self,title=None,Balance=0):\n",
        "\n",
        "        self.title=title\n",
        "\n",
        "        self.Balance=Balance\n",
        "\n",
        "class SavingsAccount(Account):\n",
        "\n",
        "    def __init__(self,title=None,Balance=0,interestRate=0):\n",
        "\n",
        "        super().__init__(title,Balance)\n",
        "\n",
        "        self.interestRate=interestRate\n",
        "\n",
        "obj1=Account(\"Ashish\",500)\n",
        "\n",
        "obj2=SavingsAccount(\"Ashish\",500,5)\n",
        "\n",
        "print(obj2.title)\n",
        "\n",
        "print(obj2.Balance)\n",
        "\n",
        "print(obj2.interestRate)"
      ],
      "metadata": {
        "colab": {
          "base_uri": "https://localhost:8080/"
        },
        "id": "3jhiKWXAyA8b",
        "outputId": "3b5fa76b-e020-4120-c1fc-7e8532b7bedb"
      },
      "execution_count": 8,
      "outputs": [
        {
          "output_type": "stream",
          "name": "stdout",
          "text": [
            "Ashish\n",
            "500\n",
            "5\n"
          ]
        }
      ]
    },
    {
      "cell_type": "code",
      "source": [
        "#Challenge 5: Handling a Bank Account\n",
        "\n",
        "class Account:\n",
        "\n",
        "    def __init__(self, title=None, balance=0):\n",
        "\n",
        "        self.title = title\n",
        "\n",
        "        self.balance = balance\n",
        "\n",
        "    def withdrawal(self, amount):\n",
        "\n",
        "        self.balance-=amount\n",
        "\n",
        "    def deposit(self, amount):\n",
        "\n",
        "        self.balance+=amount\n",
        "\n",
        "    def getBalance(self):\n",
        "\n",
        "        return self.balance\n",
        "\n",
        "class SavingsAccount(Account):\n",
        "\n",
        "    def __init__(self, title=None, balance=0, interestRate=0):\n",
        "\n",
        "            super().__init__(title, balance)\n",
        "\n",
        "            self.interestRate = interestRate\n",
        "\n",
        "    def interestAmount(self):\n",
        "\n",
        "        return(self.interestRate*self.getBalance())/100\n",
        "\n",
        "obj1 = SavingsAccount(\"Ashish\", 2000, 5)   # initializing a SavingsAccount object\n",
        "\n",
        "print(f\"Account holder Name:{obj1.title}\")\n",
        "\n",
        "print(f\"Account Balance: {obj1.getBalance()}\")\n",
        "\n",
        "obj1.deposit(500)\n",
        "\n",
        "print(f\"Account Balance after deposit: {obj1.getBalance()}\")\n",
        "\n",
        "obj1.withdrawal(100)\n",
        "\n",
        "print(f\"Account Balance after withdrawal: {obj1.getBalance()}\")\n",
        "\n",
        "print(f\"Interest for the balance amount:{obj1.interestAmount()}\")"
      ],
      "metadata": {
        "colab": {
          "base_uri": "https://localhost:8080/"
        },
        "id": "h3VBsSjcyUTN",
        "outputId": "b5fdce67-edb1-4fab-cfc3-fd29b7b0343a"
      },
      "execution_count": 9,
      "outputs": [
        {
          "output_type": "stream",
          "name": "stdout",
          "text": [
            "Account holder Name:Ashish\n",
            "Account Balance: 2000\n",
            "Account Balance after deposit: 2500\n",
            "Account Balance after withdrawal: 2400\n",
            "Interest for the balance amount:120.0\n"
          ]
        }
      ]
    }
  ]
}