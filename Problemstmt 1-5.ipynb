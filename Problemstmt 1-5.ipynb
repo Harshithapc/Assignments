{
  "nbformat": 4,
  "nbformat_minor": 0,
  "metadata": {
    "colab": {
      "provenance": [],
      "authorship_tag": "ABX9TyMrQzgGgRnmUFB6W0OYwGQF",
      "include_colab_link": true
    },
    "kernelspec": {
      "name": "python3",
      "display_name": "Python 3"
    },
    "language_info": {
      "name": "python"
    }
  },
  "cells": [
    {
      "cell_type": "markdown",
      "metadata": {
        "id": "view-in-github",
        "colab_type": "text"
      },
      "source": [
        "<a href=\"https://colab.research.google.com/github/Harshithapc/Assignments/blob/main/Problemstmt%201-5.ipynb\" target=\"_parent\"><img src=\"https://colab.research.google.com/assets/colab-badge.svg\" alt=\"Open In Colab\"/></a>"
      ]
    },
    {
      "cell_type": "code",
      "execution_count": 1,
      "metadata": {
        "colab": {
          "base_uri": "https://localhost:8080/"
        },
        "id": "JkBWxCZSz79z",
        "outputId": "cba6197d-8ab5-40ab-daf4-5b4568c0f7ee"
      },
      "outputs": [
        {
          "output_type": "stream",
          "name": "stdout",
          "text": [
            "log_message=D:100 W:10\n",
            "90\n"
          ]
        }
      ],
      "source": [
        "#Problem Statement 1\n",
        "Total_Dep=0\n",
        "Total_Wdraw=0\n",
        "count=0\n",
        "Temp_dep=\"\"\n",
        "Temp_Wdraw=\"\"\n",
        "\n",
        "log_message=input(\"log_message=\")\n",
        "for i in log_message:\n",
        "    if i=='D':\n",
        "        D=log_message[count+2:]\n",
        "        for dep in D:\n",
        "            if dep!=':' and dep!=' ':\n",
        "                Temp_dep=Temp_dep+dep\n",
        "            else:\n",
        "                break\n",
        "        Total_Dep=Total_Dep+int(Temp_dep)\n",
        "        Temp_dep=\"\"\n",
        "    elif i=='W':\n",
        "        W=log_message[count+2:]\n",
        "        for WD in W:\n",
        "            if WD!=':' and WD!=' ':\n",
        "                Temp_Wdraw=Temp_Wdraw+WD\n",
        "            else:\n",
        "                break\n",
        "        Total_Wdraw=Total_Wdraw+int(Temp_Wdraw)\n",
        "        Temp_Wdraw=\"\"\n",
        "    count+=1\n",
        "print(Total_Dep-Total_Wdraw)"
      ]
    },
    {
      "cell_type": "code",
      "source": [
        "# Problem Statement 2\n",
        "num_call=int(input(\"Enter Number of calls:\"))\n",
        "\n",
        "if num_call > 200:\n",
        "    print(\"Monthly Telephone Bill for\",num_call,\"calls is Rs.\",(200+(50*0.60)+(50*0.50)+(num_call-200)*0.40))\n",
        "elif num_call > 150:\n",
        "    print(\"Monthly Telephone Bill for\",num_call,\"calls is Rs.\",(200+(50*0.60)+(num_call-150)*0.50))\n",
        "elif num_call > 100:\n",
        "    print(\"Monthly Telephone Bill for\",num_call,\"calls is Rs.\",(200+(num_call-100)*0.60))\n",
        "else:\n",
        "    print(\"Monthly Telephone Bill for\",num_call,\"calls is Rs. 200\")"
      ],
      "metadata": {
        "colab": {
          "base_uri": "https://localhost:8080/"
        },
        "id": "gfHMUOjH0OFx",
        "outputId": "a69037d0-3722-4cfa-e7dc-407c76cfeb87"
      },
      "execution_count": 2,
      "outputs": [
        {
          "output_type": "stream",
          "name": "stdout",
          "text": [
            "Enter Number of calls:200\n",
            "Monthly Telephone Bill for 200 calls is Rs. 255.0\n"
          ]
        }
      ]
    },
    {
      "cell_type": "code",
      "source": [
        "#Problem Statement 3\n",
        "def sum(n):\n",
        "\n",
        "   count = 0\n",
        "\n",
        "   for x in n:\n",
        "\n",
        "       count += x\n",
        "\n",
        "   return count\n",
        "\n",
        "print(sum((8, 2, 3, 0, 7)))"
      ],
      "metadata": {
        "colab": {
          "base_uri": "https://localhost:8080/"
        },
        "id": "Z9uMBwvu0W78",
        "outputId": "11fb4f68-921c-46ea-ca02-5716e49f1657"
      },
      "execution_count": 7,
      "outputs": [
        {
          "output_type": "stream",
          "name": "stdout",
          "text": [
            "20\n"
          ]
        }
      ]
    },
    {
      "cell_type": "code",
      "source": [
        "#Problem Statement 4\n",
        "def letters(x):\n",
        "  return x[::-1]\n",
        "\n",
        "reverse = letters(\"1234abcd\")\n",
        "\n",
        "print(reverse)"
      ],
      "metadata": {
        "colab": {
          "base_uri": "https://localhost:8080/"
        },
        "id": "E38SYMZx01rf",
        "outputId": "ccd68a41-f1f5-48d3-ee4e-99be62bda596"
      },
      "execution_count": 8,
      "outputs": [
        {
          "output_type": "stream",
          "name": "stdout",
          "text": [
            "dcba4321\n"
          ]
        }
      ]
    },
    {
      "cell_type": "code",
      "source": [
        "#Problem Statement 5\n",
        "x=input(\"Enter the string:- \")\n",
        "def char(x):\n",
        "  u=0\n",
        "  l=0\n",
        "  for i in x:\n",
        "      if i>='a' and i<='z':\n",
        "       l+=1\n",
        "\n",
        "      if i >='A' and i<='Z':\n",
        "       u+=1\n",
        "\n",
        "  print(\"No. of Upper case characters\",u)\n",
        "  print(\"No. of Lower case Characters\",l)\n",
        "char(x)"
      ],
      "metadata": {
        "colab": {
          "base_uri": "https://localhost:8080/"
        },
        "id": "UVXlPIA007nZ",
        "outputId": "47388ed5-7a47-410c-f926-1efb1bd2306f"
      },
      "execution_count": 9,
      "outputs": [
        {
          "output_type": "stream",
          "name": "stdout",
          "text": [
            "Enter the string:- The quick Brow Fox\n",
            "No. of Upper case characters 3\n",
            "No. of Lower case Characters 12\n"
          ]
        }
      ]
    }
  ]
}