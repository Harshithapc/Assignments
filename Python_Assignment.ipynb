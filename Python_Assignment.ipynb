{
  "nbformat": 4,
  "nbformat_minor": 0,
  "metadata": {
    "colab": {
      "provenance": [],
      "authorship_tag": "ABX9TyOxcSRwl3Hznfm9z+UsCaJq",
      "include_colab_link": true
    },
    "kernelspec": {
      "name": "python3",
      "display_name": "Python 3"
    },
    "language_info": {
      "name": "python"
    }
  },
  "cells": [
    {
      "cell_type": "markdown",
      "metadata": {
        "id": "view-in-github",
        "colab_type": "text"
      },
      "source": [
        "<a href=\"https://colab.research.google.com/github/Harshithapc/Assignments/blob/main/Python_Assignment.ipynb\" target=\"_parent\"><img src=\"https://colab.research.google.com/assets/colab-badge.svg\" alt=\"Open In Colab\"/></a>"
      ]
    },
    {
      "cell_type": "code",
      "execution_count": null,
      "metadata": {
        "id": "GUXVDmxbrGd3"
      },
      "outputs": [],
      "source": [
        "#Name: Harshitha PC\n",
        "#Problem statement 1\n",
        "\n",
        "Total_Dep=0\n",
        "Total_Wdraw=0\n",
        "count=0\n",
        "Temp_dep=\"\"\n",
        "Temp_Wdraw=\"\"\n",
        "\n",
        "log_message=input(\"log_message=\")\n",
        "for i in log_message:\n",
        "    if i=='D':\n",
        "        D=log_message[count+2:]\n",
        "        for dep in D:\n",
        "            if dep!=':' and dep!=' ':\n",
        "                Temp_dep=Temp_dep+dep\n",
        "            else:\n",
        "                break\n",
        "        Total_Dep=Total_Dep+int(Temp_dep)\n",
        "        Temp_dep=\"\"\n",
        "    elif i=='W':\n",
        "        W=log_message[count+2:]\n",
        "        for WD in W:\n",
        "            if WD!=':' and WD!=' ':\n",
        "                Temp_Wdraw=Temp_Wdraw+WD\n",
        "            else:\n",
        "                break\n",
        "        Total_Wdraw=Total_Wdraw+int(Temp_Wdraw)\n",
        "        Temp_Wdraw=\"\"\n",
        "    count+=1\n",
        "print(Total_Dep-Total_Wdraw)\n",
        "\n",
        "\n",
        "#Problem Statement 2\n",
        "\n",
        "num_call=int(input(\"Enter Number of calls:\"))\n",
        "\n",
        "if num_call > 200:\n",
        "    print(\"Monthly Telephone Bill for\",num_call,\"calls is Rs.\",(200+(50*0.60)+(50*0.50)+(num_call-200)*0.40))\n",
        "elif num_call > 150:\n",
        "    print(\"Monthly Telephone Bill for\",num_call,\"calls is Rs.\",(200+(50*0.60)+(num_call-150)*0.50))\n",
        "elif num_call > 100:\n",
        "    print(\"Monthly Telephone Bill for\",num_call,\"calls is Rs.\",(200+(num_call-100)*0.60))\n",
        "else:\n",
        "    print(\"Monthly Telephone Bill for\",num_call,\"calls is Rs. 200\")\n",
        "\n",
        "#Problem Statement 3\n",
        "\n",
        "def sum(n):\n",
        "\n",
        "   count = 0\n",
        "\n",
        "   for x in n:\n",
        "\n",
        "       count += x\n",
        "\n",
        "   return count\n",
        "\n",
        "print(sum((8, 2, 3, 0, 7)))\n",
        "\n",
        "\n",
        "#Problem Statement 4\n",
        "\n",
        "def letters(x):\n",
        "  return x[::-1]\n",
        "\n",
        "reverse = letters(\"1234abcd\")\n",
        "\n",
        "print(reverse)\n",
        "\n",
        "#Problem Statement 5\n",
        "\n",
        "x=input(\"Enter the string:- \")\n",
        "def char(x):\n",
        "  u=0\n",
        "  l=0\n",
        "  for i in x:\n",
        "      if i>='a' and i<='z':\n",
        "       l+=1\n",
        "\n",
        "      if i >='A' and i<='Z':\n",
        "       u+=1\n",
        "\n",
        "  print(\"No. of Upper case characters\",u)\n",
        "  print(\"No. of Lower case Characters\",l)\n",
        "char(x)"
      ]
    }
  ]
}